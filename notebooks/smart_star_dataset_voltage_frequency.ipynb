{
 "metadata": {
  "name": ""
 },
 "nbformat": 3,
 "nbformat_minor": 0,
 "worksheets": [
  {
   "cells": [
    {
     "cell_type": "code",
     "collapsed": false,
     "input": [
      "from IPython.display import HTML\n",
      "import requests\n",
      "import pandas as pd\n",
      "import MySQLdb\n",
      "import pandas.io.sql as psql\n",
      "import datetime\n",
      "import time\n",
      "import pytz\n",
      "import time\n",
      "import matplotlib.dates as mdates\n",
      "import matplotlib.pyplot as plt\n",
      "import matplotlib\n",
      "styles = requests.get(\"https://raw.github.com/CamDavidsonPilon/Probabilistic-Programming-and-Bayesian-Methods-for-Hackers/master/styles/custom.css\")\n",
      "HTML(styles.text)\n",
      "import json\n",
      "s = requests.get(\"https://raw.github.com/CamDavidsonPilon/Probabilistic-Programming-and-Bayesian-Methods-for-Hackers/master/styles/bmh_matplotlibrc.json\").json()\n",
      "matplotlib.rcParams.update(s)"
     ],
     "language": "python",
     "metadata": {},
     "outputs": [],
     "prompt_number": 1
    },
    {
     "cell_type": "markdown",
     "metadata": {},
     "source": [
      "This is a test"
     ]
    },
    {
     "cell_type": "code",
     "collapsed": false,
     "input": [
      "pd.read_csv("
     ],
     "language": "python",
     "metadata": {},
     "outputs": []
    },
    {
     "cell_type": "code",
     "collapsed": false,
     "input": [
      "df=pd.read_csv(\"/home/nipun/study/datasets/UMASS/homeA-all/homeA-phase/2012-Jul-1-p1.csv\",names=['timestamp','frequency','voltage'])"
     ],
     "language": "python",
     "metadata": {},
     "outputs": [],
     "prompt_number": 2
    },
    {
     "cell_type": "code",
     "collapsed": false,
     "input": [
      "df"
     ],
     "language": "python",
     "metadata": {},
     "outputs": [
      {
       "html": [
        "<pre>\n",
        "&lt;class 'pandas.core.frame.DataFrame'&gt;\n",
        "Int64Index: 85386 entries, 0 to 85385\n",
        "Data columns (total 3 columns):\n",
        "timestamp    85386  non-null values\n",
        "frequency    85386  non-null values\n",
        "voltage      85386  non-null values\n",
        "dtypes: float64(2), int64(1)\n",
        "</pre>"
       ],
       "metadata": {},
       "output_type": "pyout",
       "prompt_number": 8,
       "text": [
        "<class 'pandas.core.frame.DataFrame'>\n",
        "Int64Index: 85386 entries, 0 to 85385\n",
        "Data columns (total 3 columns):\n",
        "timestamp    85386  non-null values\n",
        "frequency    85386  non-null values\n",
        "voltage      85386  non-null values\n",
        "dtypes: float64(2), int64(1)"
       ]
      }
     ],
     "prompt_number": 8
    },
    {
     "cell_type": "code",
     "collapsed": false,
     "input": [
      "df.describe()"
     ],
     "language": "python",
     "metadata": {},
     "outputs": [
      {
       "html": [
        "<div style=\"max-height:1000px;max-width:1500px;overflow:auto;\">\n",
        "<table border=\"1\" class=\"dataframe\">\n",
        "  <thead>\n",
        "    <tr style=\"text-align: right;\">\n",
        "      <th></th>\n",
        "      <th>timestamp</th>\n",
        "      <th>frequency</th>\n",
        "      <th>voltage</th>\n",
        "    </tr>\n",
        "  </thead>\n",
        "  <tbody>\n",
        "    <tr>\n",
        "      <th>count</th>\n",
        "      <td> 8.538600e+04</td>\n",
        "      <td> 85386.000000</td>\n",
        "      <td> 85386.000000</td>\n",
        "    </tr>\n",
        "    <tr>\n",
        "      <th>mean</th>\n",
        "      <td> 1.341091e+09</td>\n",
        "      <td>    59.993085</td>\n",
        "      <td>   120.571565</td>\n",
        "    </tr>\n",
        "    <tr>\n",
        "      <th>std</th>\n",
        "      <td> 2.490415e+04</td>\n",
        "      <td>     0.018714</td>\n",
        "      <td>     1.057214</td>\n",
        "    </tr>\n",
        "    <tr>\n",
        "      <th>min</th>\n",
        "      <td> 1.341048e+09</td>\n",
        "      <td>    59.930000</td>\n",
        "      <td>   116.851000</td>\n",
        "    </tr>\n",
        "    <tr>\n",
        "      <th>25%</th>\n",
        "      <td> 1.341069e+09</td>\n",
        "      <td>    59.978000</td>\n",
        "      <td>   119.959000</td>\n",
        "    </tr>\n",
        "    <tr>\n",
        "      <th>50%</th>\n",
        "      <td> 1.341091e+09</td>\n",
        "      <td>    59.988000</td>\n",
        "      <td>   120.644000</td>\n",
        "    </tr>\n",
        "    <tr>\n",
        "      <th>75%</th>\n",
        "      <td> 1.341113e+09</td>\n",
        "      <td>    60.008000</td>\n",
        "      <td>   121.242000</td>\n",
        "    </tr>\n",
        "    <tr>\n",
        "      <th>max</th>\n",
        "      <td> 1.341134e+09</td>\n",
        "      <td>    60.072000</td>\n",
        "      <td>   150.831000</td>\n",
        "    </tr>\n",
        "  </tbody>\n",
        "</table>\n",
        "</div>"
       ],
       "metadata": {},
       "output_type": "pyout",
       "prompt_number": 9,
       "text": [
        "          timestamp     frequency       voltage\n",
        "count  8.538600e+04  85386.000000  85386.000000\n",
        "mean   1.341091e+09     59.993085    120.571565\n",
        "std    2.490415e+04      0.018714      1.057214\n",
        "min    1.341048e+09     59.930000    116.851000\n",
        "25%    1.341069e+09     59.978000    119.959000\n",
        "50%    1.341091e+09     59.988000    120.644000\n",
        "75%    1.341113e+09     60.008000    121.242000\n",
        "max    1.341134e+09     60.072000    150.831000"
       ]
      }
     ],
     "prompt_number": 9
    },
    {
     "cell_type": "code",
     "collapsed": false,
     "input": [
      "df.index=pd.to_datetime(df.timestamp*1e9)"
     ],
     "language": "python",
     "metadata": {},
     "outputs": [],
     "prompt_number": 3
    },
    {
     "cell_type": "code",
     "collapsed": false,
     "input": [
      "df.drop('timestamp',1)"
     ],
     "language": "python",
     "metadata": {},
     "outputs": [
      {
       "html": [
        "<pre>\n",
        "&lt;class 'pandas.core.frame.DataFrame'&gt;\n",
        "DatetimeIndex: 85386 entries, 2012-06-30 09:17:42 to 2012-07-01 09:15:31\n",
        "Data columns (total 2 columns):\n",
        "frequency    85386  non-null values\n",
        "voltage      85386  non-null values\n",
        "dtypes: float64(2)\n",
        "</pre>"
       ],
       "metadata": {},
       "output_type": "pyout",
       "prompt_number": 4,
       "text": [
        "<class 'pandas.core.frame.DataFrame'>\n",
        "DatetimeIndex: 85386 entries, 2012-06-30 09:17:42 to 2012-07-01 09:15:31\n",
        "Data columns (total 2 columns):\n",
        "frequency    85386  non-null values\n",
        "voltage      85386  non-null values\n",
        "dtypes: float64(2)"
       ]
      }
     ],
     "prompt_number": 4
    },
    {
     "cell_type": "code",
     "collapsed": false,
     "input": [
      "df=df.drop('timestamp',1)"
     ],
     "language": "python",
     "metadata": {},
     "outputs": [],
     "prompt_number": 12
    },
    {
     "cell_type": "code",
     "collapsed": false,
     "input": [
      "matplotlib.rcParams.update({'font.size': 20})\n"
     ],
     "language": "python",
     "metadata": {},
     "outputs": [],
     "prompt_number": 5
    },
    {
     "cell_type": "code",
     "collapsed": false,
     "input": [
      "plt.boxplot(df.frequency)"
     ],
     "language": "python",
     "metadata": {},
     "outputs": [
      {
       "metadata": {},
       "output_type": "pyout",
       "prompt_number": 15,
       "text": [
        "{'boxes': [<matplotlib.lines.Line2D at 0x4d56690>],\n",
        " 'caps': [<matplotlib.lines.Line2D at 0x4a0e9d0>,\n",
        "  <matplotlib.lines.Line2D at 0x4d56050>],\n",
        " 'fliers': [<matplotlib.lines.Line2D at 0x4d5e350>,\n",
        "  <matplotlib.lines.Line2D at 0x4d5e950>],\n",
        " 'medians': [<matplotlib.lines.Line2D at 0x4d56cd0>],\n",
        " 'whiskers': [<matplotlib.lines.Line2D at 0x4a0e090>,\n",
        "  <matplotlib.lines.Line2D at 0x4a0e310>]}"
       ]
      },
      {
       "metadata": {},
       "output_type": "display_data",
       "png": "[encoded data removed]",
       "text": [
        "<matplotlib.figure.Figure at 0x3d83e10>"
       ]
      }
     ],
     "prompt_number": 15
    },
    {
     "cell_type": "code",
     "collapsed": false,
     "input": [
      "v=df.voltage.values\n",
      "v=v[v<150]\n",
      "plt.boxplot(v)\n",
      "plt.title('Voltage Boxplot (US)\\n SMART* Dataset')\n",
      "plt.ylabel('Voltage (V)')\n",
      "plt.xticks([1],[''])\n",
      "plt.grid()\n",
      "fig=plt.gcf()\n",
      "fig.set_size_inches(7,9)\t\n",
      "plt.savefig('us_voltage.png',dpi=100,bbox_inches='tight')\n"
     ],
     "language": "python",
     "metadata": {},
     "outputs": [],
     "prompt_number": 17
    },
    {
     "cell_type": "code",
     "collapsed": false,
     "input": [
      "v"
     ],
     "language": "python",
     "metadata": {},
     "outputs": [
      {
       "metadata": {},
       "output_type": "pyout",
       "prompt_number": 11,
       "text": [
        "array([ 121.08 ,  121.044,  121.044, ...,  120.187,  120.186,  120.208])"
       ]
      }
     ],
     "prompt_number": 11
    },
    {
     "cell_type": "code",
     "collapsed": false,
     "input": [
      "plt.boxplot(v)"
     ],
     "language": "python",
     "metadata": {},
     "outputs": [
      {
       "metadata": {},
       "output_type": "pyout",
       "prompt_number": 12,
       "text": [
        "{'boxes': [<matplotlib.lines.Line2D at 0x53f0990>],\n",
        " 'caps': [<matplotlib.lines.Line2D at 0x3de09d0>,\n",
        "  <matplotlib.lines.Line2D at 0x3df42d0>],\n",
        " 'fliers': [<matplotlib.lines.Line2D at 0x53f5a10>,\n",
        "  <matplotlib.lines.Line2D at 0x54062d0>],\n",
        " 'medians': [<matplotlib.lines.Line2D at 0x5402d90>],\n",
        " 'whiskers': [<matplotlib.lines.Line2D at 0x3de0d10>,\n",
        "  <matplotlib.lines.Line2D at 0x3de0c50>]}"
       ]
      }
     ],
     "prompt_number": 12
    },
    {
     "cell_type": "code",
     "collapsed": false,
     "input": [
      "plt.show()"
     ],
     "language": "python",
     "metadata": {},
     "outputs": [],
     "prompt_number": 13
    },
    {
     "cell_type": "code",
     "collapsed": false,
     "input": [
      "plt.plot(v)"
     ],
     "language": "python",
     "metadata": {},
     "outputs": [
      {
       "metadata": {},
       "output_type": "pyout",
       "prompt_number": 15,
       "text": [
        "[<matplotlib.lines.Line2D at 0x47ecc10>]"
       ]
      }
     ],
     "prompt_number": 15
    },
    {
     "cell_type": "code",
     "collapsed": false,
     "input": [
      "plt.show()"
     ],
     "language": "python",
     "metadata": {},
     "outputs": [],
     "prompt_number": 16
    },
    {
     "cell_type": "code",
     "collapsed": false,
     "input": [],
     "language": "python",
     "metadata": {},
     "outputs": []
    }
   ],
   "metadata": {}
  }
 ]
}